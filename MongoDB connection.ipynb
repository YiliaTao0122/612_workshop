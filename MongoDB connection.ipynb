{
 "cells": [
  {
   "cell_type": "code",
   "execution_count": 4,
   "id": "4917471c-fa76-4546-8041-a6083491c3c3",
   "metadata": {},
   "outputs": [
    {
     "name": "stdout",
     "output_type": "stream",
     "text": [
      "{'_id': ObjectId('669de0504ec2a1fb8a9e8ea9'), 'name': 'John', 'age': 30, 'city': 'New York'}\n"
     ]
    }
   ],
   "source": [
    "from pymongo import MongoClient\n",
    "\n",
    "# Connect to the MongoDB server\n",
    "client = MongoClient('mongodb://localhost:27017/')\n",
    "\n",
    "# Connect to a specific database\n",
    "db = client['your_database_name']\n",
    "\n",
    "# Access a specific collection\n",
    "collection = db['your_collection_name']\n",
    "\n",
    "# Insert a document\n",
    "document = {\"name\": \"John\", \"age\": 30, \"city\": \"New York\"}\n",
    "collection.insert_one(document)\n",
    "\n",
    "# Find a document\n",
    "found_document = collection.find_one({\"name\": \"John\"})\n",
    "print(found_document)\n",
    "\n",
    "# Update a document\n",
    "collection.update_one({\"name\": \"John\"}, {\"$set\": {\"age\": 31}})\n",
    "\n",
    "# Delete a document\n",
    "collection.delete_one({\"name\": \"John\"})\n",
    "\n",
    "# Close the connection\n",
    "client.close()\n"
   ]
  },
  {
   "cell_type": "code",
   "execution_count": 5,
   "id": "724e98cf-2609-473f-a69f-20ed6dba804c",
   "metadata": {},
   "outputs": [
    {
     "name": "stdout",
     "output_type": "stream",
     "text": [
      "{'_id': ObjectId('669de0ca4ec2a1fb8a9e8eab'), 'name': 'John', 'age': 30, 'city': 'New York'}\n"
     ]
    }
   ],
   "source": [
    "from pymongo import MongoClient\n",
    "\n",
    "# Connect to the MongoDB server\n",
    "client = MongoClient('mongodb://localhost:27017/')\n",
    "\n",
    "# Connect to a specific database\n",
    "db = client['mydb']\n",
    "\n",
    "# Access a specific collection\n",
    "collection = db['order']\n",
    "\n",
    "# Insert a document\n",
    "document = {\"name\": \"John\", \"age\": 30, \"city\": \"New York\"}\n",
    "collection.insert_one(document)\n",
    "\n",
    "# Find a document\n",
    "found_document = collection.find_one({\"name\": \"John\"})\n",
    "print(found_document)\n",
    "\n",
    "# Update a document\n",
    "collection.update_one({\"name\": \"John\"}, {\"$set\": {\"age\": 31}})\n",
    "\n",
    "# Delete a document\n",
    "# collection.delete_one({\"name\": \"John\"})\n",
    "\n",
    "# Close the connection\n",
    "client.close()\n"
   ]
  },
  {
   "cell_type": "code",
   "execution_count": 9,
   "id": "d3e41eb0-a670-400a-842d-80e1fa9f4096",
   "metadata": {},
   "outputs": [
    {
     "name": "stdout",
     "output_type": "stream",
     "text": [
      "Inserted IDs: [ObjectId('669de3224ec2a1fb8a9e8ebf'), ObjectId('669de3224ec2a1fb8a9e8ec0'), ObjectId('669de3224ec2a1fb8a9e8ec1'), ObjectId('669de3224ec2a1fb8a9e8ec2'), ObjectId('669de3224ec2a1fb8a9e8ec3')]\n"
     ]
    }
   ],
   "source": [
    "from pymongo import MongoClient\n",
    "\n",
    "\n",
    "client = MongoClient('mongodb://localhost:27017/')\n",
    "\n",
    "\n",
    "db = client['mydb']\n",
    "\n",
    "\n",
    "collection = db['order']\n",
    "\n",
    "\n",
    "documents = [\n",
    "    {\"name\": \"Alice\", \"age\": 25, \"city\": \"Los Angeles\"},\n",
    "    {\"name\": \"Bob\", \"age\": 30, \"city\": \"Chicago\"},\n",
    "    {\"name\": \"Charlie\", \"age\": 35, \"city\": \"San Francisco\"},\n",
    "    {\"name\": \"David\", \"age\": 40, \"city\": \"New York\"},\n",
    "    {\"name\": \"Eve\", \"age\": 45, \"city\": \"Boston\"}\n",
    "]\n",
    "# collection.insert_many(documents)\n",
    "\n",
    "result = collection.insert_many(documents)\n",
    "\n",
    "\n",
    "print(\"Inserted IDs:\", result.inserted_ids)\n",
    "\n",
    "client.close()\n"
   ]
  }
 ],
 "metadata": {
  "kernelspec": {
   "display_name": "Python 3 (ipykernel)",
   "language": "python",
   "name": "python3"
  },
  "language_info": {
   "codemirror_mode": {
    "name": "ipython",
    "version": 3
   },
   "file_extension": ".py",
   "mimetype": "text/x-python",
   "name": "python",
   "nbconvert_exporter": "python",
   "pygments_lexer": "ipython3",
   "version": "3.12.2"
  }
 },
 "nbformat": 4,
 "nbformat_minor": 5
}
